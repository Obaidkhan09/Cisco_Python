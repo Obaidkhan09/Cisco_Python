{
 "cells": [
  {
   "cell_type": "markdown",
   "metadata": {},
   "source": [
    "# Assignment # 1"
   ]
  },
  {
   "cell_type": "code",
   "execution_count": 1,
   "metadata": {},
   "outputs": [],
   "source": [
    "#1. Write a Python program to print the following string in a specific format"
   ]
  },
  {
   "cell_type": "code",
   "execution_count": 2,
   "metadata": {},
   "outputs": [
    {
     "name": "stdout",
     "output_type": "stream",
     "text": [
      "Twinkle, twinkle, little star, \n",
      "\tHow I wonder what you are! \n",
      "\t\tUp above the world so high, \n",
      "\t\tLike a diamond in the sky. \n",
      "Twinkle, twinkle, little star, \n",
      "\tHow I wonder what you are!\n"
     ]
    }
   ],
   "source": [
    "print(\"Twinkle, twinkle, little star, \\n\\tHow I wonder what you are! \\n\\t\\tUp above the world so high, \\n\\t\\tLike a diamond in the sky. \\nTwinkle, twinkle, little star, \\n\\tHow I wonder what you are!\")\n"
   ]
  },
  {
   "cell_type": "code",
   "execution_count": 3,
   "metadata": {},
   "outputs": [],
   "source": [
    "#2. Write a Python program to get the Python version you are using."
   ]
  },
  {
   "cell_type": "code",
   "execution_count": 4,
   "metadata": {},
   "outputs": [
    {
     "name": "stdout",
     "output_type": "stream",
     "text": [
      "Python version that im using !!!\n",
      "3.7.3 (default, Mar 27 2019, 17:13:21) [MSC v.1915 64 bit (AMD64)]\n",
      "Version info.\n",
      "sys.version_info(major=3, minor=7, micro=3, releaselevel='final', serial=0)\n"
     ]
    }
   ],
   "source": [
    "import sys\n",
    "print(\"Python version that im using !!!\")\n",
    "print (sys.version)\n",
    "print(\"Version info.\")\n",
    "print (sys.version_info)"
   ]
  },
  {
   "cell_type": "code",
   "execution_count": 5,
   "metadata": {},
   "outputs": [],
   "source": [
    "#3. Write a Python program to display the current date and time."
   ]
  },
  {
   "cell_type": "code",
   "execution_count": 6,
   "metadata": {},
   "outputs": [
    {
     "name": "stdout",
     "output_type": "stream",
     "text": [
      "Current date and time in am ,pm format : \n",
      "28-11-2019 01:13:01 AM\n",
      "Current date and time 24 hour format : \n",
      "2019-11-28 01:13:01\n"
     ]
    }
   ],
   "source": [
    "import datetime\n",
    "a = datetime.datetime.now()\n",
    "\n",
    "print (\"Current date and time in am ,pm format : \")\n",
    "print (a.strftime(\"%d-%m-%Y %I:%M:%S %p\"))\n",
    "\n",
    "print (\"Current date and time 24 hour format : \")\n",
    "print (a.strftime(\"%Y-%m-%d %H:%M:%S\"))"
   ]
  },
  {
   "cell_type": "code",
   "execution_count": 7,
   "metadata": {},
   "outputs": [],
   "source": [
    "#4. Write a Python program which accepts the radius of a circle from the user and compute the area."
   ]
  },
  {
   "cell_type": "code",
   "execution_count": 8,
   "metadata": {},
   "outputs": [
    {
     "name": "stdout",
     "output_type": "stream",
     "text": [
      "Enter the radius of a circle0.6\n",
      "Area of the circle is : 1.13\n"
     ]
    }
   ],
   "source": [
    "pi=3.14\n",
    "radius =float (input ('Enter the radius of a circle'))\n",
    "area=pi*radius*radius\n",
    "print(\"Area of the circle is : %.2f\"  %area)"
   ]
  },
  {
   "cell_type": "code",
   "execution_count": 9,
   "metadata": {},
   "outputs": [],
   "source": [
    "#5. Write a Python program which accepts the user's first and last name and print them in reverse order with a space between them."
   ]
  },
  {
   "cell_type": "code",
   "execution_count": 10,
   "metadata": {},
   "outputs": [
    {
     "name": "stdout",
     "output_type": "stream",
     "text": [
      "Enter your First Name : Obaid\n",
      "Enter your Last Name : Khan\n",
      "Khan Obaid\n"
     ]
    }
   ],
   "source": [
    "first_name = input(\"Enter your First Name : \")\n",
    "last_name = input(\"Enter your Last Name : \")\n",
    "print (last_name + \" \" + first_name)"
   ]
  },
  {
   "cell_type": "code",
   "execution_count": 11,
   "metadata": {},
   "outputs": [],
   "source": [
    "#6. Write a python program which takes two inputs from user and print them addition"
   ]
  },
  {
   "cell_type": "code",
   "execution_count": 12,
   "metadata": {},
   "outputs": [
    {
     "name": "stdout",
     "output_type": "stream",
     "text": [
      "Enter first number for addition :5\n",
      "Enter second number for addition :10\n",
      "Numbers after addition : 15\n"
     ]
    }
   ],
   "source": [
    "a = int(input(\"Enter first number for addition :\"))\n",
    "b = int(input(\"Enter second number for addition :\"))\n",
    "print(\"Numbers after addition :\", a+b)"
   ]
  },
  {
   "cell_type": "markdown",
   "metadata": {},
   "source": [
    "# Assignment # 02"
   ]
  },
  {
   "cell_type": "code",
   "execution_count": 13,
   "metadata": {},
   "outputs": [
    {
     "name": "stdout",
     "output_type": "stream",
     "text": [
      "MARKSHEET\n",
      "Enter your name: Obaid Ur Rahman\n",
      "Enter your marks in English: 75\n",
      "Enter your marks in Chemistry: 68\n",
      "Enter your marks in Pakistan Studies: 82\n",
      "Enter your marks in Sindhi: 72\n",
      "Enter your marks in Computer Science: 83\n",
      "380 /500\n",
      "Your percentage is %.2f 76.0 %\n",
      "Grade A\n"
     ]
    }
   ],
   "source": [
    "print(\"MARKSHEET\")\n",
    "name=input(\"Enter your name: \")\n",
    "eng=int(input(\"Enter your marks in English: \"))\n",
    "che=int(input(\"Enter your marks in Chemistry: \"))\n",
    "pak_std=int(input(\"Enter your marks in Pakistan Studies: \"))\n",
    "sindhi=int(input(\"Enter your marks in Sindhi: \"))\n",
    "comp_sci=int(input(\"Enter your marks in Computer Science: \"))\n",
    "total=eng+che+pak_std+sindhi+comp_sci\n",
    "print(total,'/500')\n",
    "per=float((eng+che+pak_std+sindhi+comp_sci)/500)*100\n",
    "print(\"Your percentage is %.2f\",per,\"%\")\n",
    "\n",
    "avg=(total/5)\n",
    "if avg>=80 and avg<=100:\n",
    "    print(\"Grade A1\")\n",
    "elif avg>=70 and avg<=80:\n",
    "    print(\"Grade A\")\n",
    "elif avg>=60 and avg<=70:\n",
    "    print(\"Grade B\")\n",
    "elif avg>=50 and avg<=60:\n",
    "    print(\"Grade C\")\n",
    "else:\n",
    "    print(\"You are fail\")"
   ]
  },
  {
   "cell_type": "code",
   "execution_count": 14,
   "metadata": {},
   "outputs": [],
   "source": [
    "#2. Write a program which take input from user and identify that the given number is even or odd?"
   ]
  },
  {
   "cell_type": "code",
   "execution_count": 15,
   "metadata": {},
   "outputs": [
    {
     "name": "stdout",
     "output_type": "stream",
     "text": [
      "Enter a number to check it's even or odd : 7\n",
      "7 is Odd\n"
     ]
    }
   ],
   "source": [
    "num = int(input(\"Enter a number to check it's even or odd : \"))\n",
    "if (num % 2) == 0:\n",
    "    print(\"{0} is Even\".format(num))\n",
    "else:\n",
    "    print(\"{0} is Odd\".format(num))"
   ]
  },
  {
   "cell_type": "code",
   "execution_count": 16,
   "metadata": {},
   "outputs": [],
   "source": [
    "#3. Write a program which print the length of the list?"
   ]
  },
  {
   "cell_type": "code",
   "execution_count": 17,
   "metadata": {},
   "outputs": [
    {
     "name": "stdout",
     "output_type": "stream",
     "text": [
      "length of list is  :  5\n"
     ]
    }
   ],
   "source": [
    "list1 = [\"abc\", 'xyz', 'Ayesha', \"Obaid\", 1997]\n",
    "print (\"length of list is  : \" , len(list1))"
   ]
  },
  {
   "cell_type": "code",
   "execution_count": 18,
   "metadata": {},
   "outputs": [],
   "source": [
    "#4. Write a Python program to sum all the numeric items in a list?"
   ]
  },
  {
   "cell_type": "code",
   "execution_count": 19,
   "metadata": {},
   "outputs": [
    {
     "name": "stdout",
     "output_type": "stream",
     "text": [
      "The sum of numeric items in a list is :  50\n"
     ]
    }
   ],
   "source": [
    "num_list = [3, 5, 7, 9, 11, 15]\n",
    "total = 0\n",
    "for x in num_list:\n",
    "    total += x\n",
    "print(\"The sum of numeric items in a list is : \",total)"
   ]
  },
  {
   "cell_type": "code",
   "execution_count": 20,
   "metadata": {},
   "outputs": [],
   "source": [
    "#5. Write a Python program to get the largest number from a numeric list"
   ]
  },
  {
   "cell_type": "code",
   "execution_count": 22,
   "metadata": {},
   "outputs": [
    {
     "name": "stdout",
     "output_type": "stream",
     "text": [
      "Largest element is: 12\n"
     ]
    }
   ],
   "source": [
    "list2 = [3, 5, 7,  7, 9, 1, 12, 10]\n",
    "print(\"Largest element is:\", max(list2))"
   ]
  },
  {
   "cell_type": "code",
   "execution_count": 24,
   "metadata": {},
   "outputs": [],
   "source": [
    "#6. Take a list, say for example this one: a = [1, 1, 2, 3, 5, 8, 13, 21, 34, 55, 89] and \n",
    "#write a program that prints out all the elements of the list that are less than 5."
   ]
  },
  {
   "cell_type": "code",
   "execution_count": 25,
   "metadata": {},
   "outputs": [
    {
     "name": "stdout",
     "output_type": "stream",
     "text": [
      "The elements of the list less than 5 are :\n",
      "1\n",
      "1\n",
      "2\n",
      "3\n"
     ]
    }
   ],
   "source": [
    "a = [1, 1, 2, 3, 5, 8, 13, 21, 34, 55, 89]\n",
    "print(\"The elements of the list less than 5 are :\")\n",
    "for n in a:\n",
    "    if n < 5 :\n",
    "        print(n)"
   ]
  },
  {
   "cell_type": "markdown",
   "metadata": {},
   "source": [
    "# Assignment # 03"
   ]
  },
  {
   "cell_type": "code",
   "execution_count": 26,
   "metadata": {},
   "outputs": [],
   "source": [
    "#1. Make a calculator using Python with addition , subtraction , multiplication , division and power."
   ]
  },
  {
   "cell_type": "code",
   "execution_count": 27,
   "metadata": {},
   "outputs": [
    {
     "name": "stdout",
     "output_type": "stream",
     "text": [
      "\n",
      "Please type in the math operation you would like to complete:\n",
      "+  for addition\n",
      "-  for subtraction\n",
      "*  for multiplication\n",
      "/  for division\n",
      "** for power\n",
      "**\n",
      "Enter your first number: 8\n",
      "Enter your second number: 3\n",
      "8 ** 3 =  512\n"
     ]
    }
   ],
   "source": [
    "operation = input('''\n",
    "Please type in the math operation you would like to complete:\n",
    "+  for addition\n",
    "-  for subtraction\n",
    "*  for multiplication\n",
    "/  for division\n",
    "** for power\n",
    "''')\n",
    "\n",
    "num_1 = int(input('Enter your first number: '))\n",
    "num_2 = int(input('Enter your second number: '))\n",
    "\n",
    "if operation == '+':\n",
    "    print('{} + {} = '.format(num_1, num_2),num_1 + num_2)\n",
    "    \n",
    "elif operation == '-':\n",
    "    print('{} - {} = '.format(num_1, num_2),num_1 - num_2)\n",
    "    \n",
    "elif operation == '*':\n",
    "    print('{} * {} = '.format(num_1, num_2),num_1 * num_2)\n",
    "    \n",
    "elif operation == '/':\n",
    "    print('{} / {} = '.format(num_1, num_2),num_1 / num_2)\n",
    "\n",
    "elif operation == '**':\n",
    "    print('{} ** {} = '.format(num_1, num_2), num_1 ** num_2)\n",
    "        \n",
    "else:\n",
    "    print('You have typed Invalid Syntax !')"
   ]
  },
  {
   "cell_type": "code",
   "execution_count": 28,
   "metadata": {},
   "outputs": [],
   "source": [
    "#2. Write a program to check if there is any numeric value in list using for loop."
   ]
  },
  {
   "cell_type": "code",
   "execution_count": 29,
   "metadata": {},
   "outputs": [
    {
     "name": "stdout",
     "output_type": "stream",
     "text": [
      "List contain numeric value\n"
     ]
    }
   ],
   "source": [
    "list_1=['1','orange','2','3','3','apple', \"Ali\"]\n",
    "for i in list_1:\n",
    "    a = i.isnumeric()\n",
    "    if a == True:\n",
    "        print(\"List contain numeric value\")\n",
    "        break\n",
    "    else:\n",
    "        print(\"List not contain any numeric value\")\n",
    "        break"
   ]
  },
  {
   "cell_type": "code",
   "execution_count": 30,
   "metadata": {},
   "outputs": [],
   "source": [
    "#3. Write a Python script to add a key to a dictionary."
   ]
  },
  {
   "cell_type": "code",
   "execution_count": 31,
   "metadata": {},
   "outputs": [
    {
     "name": "stdout",
     "output_type": "stream",
     "text": [
      "Current Dictionary is:  {'First Name': 'Obaid', 'Middle Name': 'Ur'}\n",
      "Updated Dict is:  {'First Name': 'Obaid', 'Middle Name': 'Ur', 'Last Name': 'Rahman'}\n"
     ]
    }
   ],
   "source": [
    "dict = {'First Name':'Obaid', 'Middle Name':'Ur'} \n",
    "print(\"Current Dictionary is: \", dict) \n",
    "   \n",
    "dict['Last Name'] = 'Rahman'\n",
    "print(\"Updated Dict is: \", dict)"
   ]
  },
  {
   "cell_type": "code",
   "execution_count": 32,
   "metadata": {},
   "outputs": [],
   "source": [
    "#4. Write a Python program to sum all the numeric items in a dictionary."
   ]
  },
  {
   "cell_type": "code",
   "execution_count": 33,
   "metadata": {},
   "outputs": [
    {
     "name": "stdout",
     "output_type": "stream",
     "text": [
      "The sum of numeric items in dictionary  {'a': 100, 'b': 200, 'c': 300} is 600\n"
     ]
    }
   ],
   "source": [
    "dict = {'a': 100, 'b':200, 'c':300}  \n",
    "sum = 0\n",
    "\n",
    "for i in dict.values(): \n",
    "    sum = sum + i\n",
    "\n",
    "print(\"The sum of numeric items in dictionary  {} is {}\".format(dict,sum))"
   ]
  },
  {
   "cell_type": "code",
   "execution_count": 34,
   "metadata": {},
   "outputs": [],
   "source": [
    "#5. Write a program to identify duplicate values from list."
   ]
  },
  {
   "cell_type": "code",
   "execution_count": 35,
   "metadata": {},
   "outputs": [
    {
     "name": "stdout",
     "output_type": "stream",
     "text": [
      "There are duplicates in this list\n",
      "list of duplicates is :  [3, 9, 12]\n"
     ]
    }
   ],
   "source": [
    "list3 = [ 3, 6, 9, 12, 3, 30, 15, 9, 45, 36, 12, 12]\n",
    "unique = set(list3)  \n",
    "for n in unique:  \n",
    "    count = list3.count(n)  \n",
    "    if count > 1:  \n",
    "        print ('There are duplicates in this list')  \n",
    "        \n",
    "        duplicate = []\n",
    "        uniq = {}\n",
    "        for x in list3:\n",
    "            if x not in uniq:\n",
    "                uniq[x] = 1\n",
    "            else:\n",
    "                if uniq[x] == 1:\n",
    "                    duplicate.append(x)\n",
    "                uniq[x] += 1\n",
    "        print(\"list of duplicates is : \" ,duplicate)\n",
    "        break\n",
    "    else:\n",
    "        print ('There are no duplicates in this list')  \n",
    "        break"
   ]
  },
  {
   "cell_type": "code",
   "execution_count": 36,
   "metadata": {},
   "outputs": [],
   "source": [
    "#6. Write a Python script to check if a given key already exists in a dictionary."
   ]
  },
  {
   "cell_type": "code",
   "execution_count": 37,
   "metadata": {},
   "outputs": [
    {
     "name": "stdout",
     "output_type": "stream",
     "text": [
      "Enter a key of dictionary :forty\n",
      "Key is present in the dictionary\n"
     ]
    }
   ],
   "source": [
    "dict2 = {'ten': 10, 'twenty': 20, 'thirty': 30, 'forty': 40, 'fifty': 50, 'sixty': 60}\n",
    "x = input(\"Enter a key of dictionary :\")\n",
    "if x in dict2:\n",
    "    print('Key is present in the dictionary')\n",
    "else:\n",
    "    print('Key is not present in the dictionary')"
   ]
  },
  {
   "cell_type": "code",
   "execution_count": null,
   "metadata": {},
   "outputs": [],
   "source": []
  }
 ],
 "metadata": {
  "kernelspec": {
   "display_name": "Python 3",
   "language": "python",
   "name": "python3"
  },
  "language_info": {
   "codemirror_mode": {
    "name": "ipython",
    "version": 3
   },
   "file_extension": ".py",
   "mimetype": "text/x-python",
   "name": "python",
   "nbconvert_exporter": "python",
   "pygments_lexer": "ipython3",
   "version": "3.7.3"
  }
 },
 "nbformat": 4,
 "nbformat_minor": 2
}
